{
 "cells": [
  {
   "cell_type": "markdown",
   "metadata": {},
   "source": [
    "# Assignment 3"
   ]
  },
  {
   "cell_type": "markdown",
   "metadata": {},
   "source": [
    "https://www.imdb.com/title/tt4574334/episodes?season=1\n",
    "\n",
    "需要的内容：Stanger Things第一季每一集的名字，评分，评分人数，首播日期还有剧集简介共5列，结果输出为excel文件"
   ]
  },
  {
   "cell_type": "code",
   "execution_count": 1,
   "metadata": {},
   "outputs": [
    {
     "name": "stdout",
     "output_type": "stream",
     "text": [
      "Requests version: 2.25.1\n",
      "Beautiful Soup version: 4.9.3\n",
      "selenium version: 3.141.0\n",
      "pandas version: 1.2.4\n"
     ]
    }
   ],
   "source": [
    "import requests\n",
    "print('Requests version: ' + requests.__version__)\n",
    "\n",
    "import bs4\n",
    "print('Beautiful Soup version: ' + bs4.__version__)\n",
    "from bs4 import BeautifulSoup\n",
    "\n",
    "import selenium\n",
    "from selenium import webdriver\n",
    "print('selenium version: ' + selenium.__version__)\n",
    "\n",
    "import pandas as pd\n",
    "print('pandas version: ' + pd.__version__)"
   ]
  },
  {
   "cell_type": "code",
   "execution_count": 6,
   "metadata": {},
   "outputs": [],
   "source": [
    "driver = webdriver.Chrome(executable_path='./driver/chromedriver.exe')\n",
    "#open the website\n",
    "driver.get('https://www.imdb.com/title/tt4574334/episodes?season=1')\n",
    "#Get source html\n",
    "page_html = driver.page_source\n",
    "driver.quit()"
   ]
  },
  {
   "cell_type": "code",
   "execution_count": 10,
   "metadata": {
    "scrolled": true
   },
   "outputs": [
    {
     "data": {
      "text/plain": [
       "bs4.BeautifulSoup"
      ]
     },
     "execution_count": 10,
     "metadata": {},
     "output_type": "execute_result"
    }
   ],
   "source": [
    "soup = BeautifulSoup(page_html, parser = 'html.parser')\n",
    "type(soup)"
   ]
  },
  {
   "cell_type": "code",
   "execution_count": 15,
   "metadata": {},
   "outputs": [
    {
     "data": {
      "text/plain": [
       "8"
      ]
     },
     "execution_count": 15,
     "metadata": {},
     "output_type": "execute_result"
    }
   ],
   "source": [
    "movies = soup.find_all(name = 'div', attrs = {'class':'info'})\n",
    "len(movies)"
   ]
  },
  {
   "cell_type": "code",
   "execution_count": 16,
   "metadata": {},
   "outputs": [
    {
     "data": {
      "text/plain": [
       "bs4.element.ResultSet"
      ]
     },
     "execution_count": 16,
     "metadata": {},
     "output_type": "execute_result"
    }
   ],
   "source": [
    "type(movies)"
   ]
  },
  {
   "cell_type": "code",
   "execution_count": 18,
   "metadata": {},
   "outputs": [
    {
     "data": {
      "text/plain": [
       "bs4.element.Tag"
      ]
     },
     "execution_count": 18,
     "metadata": {},
     "output_type": "execute_result"
    }
   ],
   "source": [
    "type(movies[0])"
   ]
  },
  {
   "cell_type": "code",
   "execution_count": 20,
   "metadata": {
    "collapsed": true
   },
   "outputs": [
    {
     "name": "stdout",
     "output_type": "stream",
     "text": [
      "<div class=\"info\" itemprop=\"episodes\" itemscope=\"\" itemtype=\"http://schema.org/TVEpisode\">\n",
      "<meta content=\"1\" itemprop=\"episodeNumber\"/>\n",
      "<div class=\"airdate\">\n",
      "            15 Jul. 2016\n",
      "    </div>\n",
      "<strong><a href=\"/title/tt4593118/?ref_=ttep_ep1\" itemprop=\"name\" title=\"Chapter One: The Vanishing of Will Byers\">Chapter One: The Vanishing of Will Byers</a></strong>\n",
      "<div class=\"ipl-rating-widget\">\n",
      "<div class=\"ipl-rating-star small\">\n",
      "<span class=\"ipl-rating-star__star\">\n",
      "<svg class=\"ipl-icon ipl-star-icon\" fill=\"#000000\" height=\"24\" viewbox=\"0 0 24 24\" width=\"24\" xmlns=\"http://www.w3.org/2000/svg\">\n",
      "<path d=\"M0 0h24v24H0z\" fill=\"none\"></path>\n",
      "<path d=\"M12 17.27L18.18 21l-1.64-7.03L22 9.24l-7.19-.61L12 2 9.19 8.63 2 9.24l5.46 4.73L5.82 21z\"></path>\n",
      "<path d=\"M0 0h24v24H0z\" fill=\"none\"></path>\n",
      "</svg>\n",
      "</span>\n",
      "<span class=\"ipl-rating-star__rating\">8.6</span>\n",
      "<span class=\"ipl-rating-star__total-votes\">(20,216)</span>\n",
      "</div>\n",
      "<div class=\"ipl-rating-interactive small ipl-rating-interactive--no-rating\">\n",
      "<input class=\"ipl-rating-interactive__state\" data-reftag=\"ttep_ep1_rt\" data-tconst=\"tt4593118\" id=\"checkbox-tt4593118\" type=\"checkbox\"/>\n",
      "<label class=\"ipl-rating-interactive__star-container\" for=\"checkbox-tt4593118\">\n",
      "<div class=\"ipl-rating-star ipl-rating-interactive__star\">\n",
      "<span class=\"ipl-rating-star__star\">\n",
      "<svg class=\"ipl-icon ipl-star-icon\" fill=\"#000000\" height=\"24\" viewbox=\"0 0 24 24\" width=\"24\" xmlns=\"http://www.w3.org/2000/svg\">\n",
      "<path d=\"M0 0h24v24H0z\" fill=\"none\"></path>\n",
      "<path d=\"M12 17.27L18.18 21l-1.64-7.03L22 9.24l-7.19-.61L12 2 9.19 8.63 2 9.24l5.46 4.73L5.82 21z\"></path>\n",
      "<path d=\"M0 0h24v24H0z\" fill=\"none\"></path>\n",
      "</svg>\n",
      "</span>\n",
      "<span class=\"ipl-rating-star__rating\">0</span>\n",
      "</div>\n",
      "<div class=\"ipl-rating-star ipl-rating-interactive__star--empty\">\n",
      "<span class=\"ipl-rating-star__star\">\n",
      "<svg class=\"ipl-icon ipl-star-border-icon\" fill=\"#000000\" height=\"24\" viewbox=\"0 0 24 24\" width=\"24\" xmlns=\"http://www.w3.org/2000/svg\">\n",
      "<path d=\"M22 9.24l-7.19-.62L12 2 9.19 8.63 2 9.24l5.46 4.73L5.82 21 12 17.27 18.18 21l-1.63-7.03L22 9.24zM12 15.4l-3.76 2.27 1-4.28-3.32-2.88 4.38-.38L12 6.1l1.71 4.04 4.38.38-3.32 2.88 1 4.28L12 15.4z\"></path>\n",
      "<path d=\"M0 0h24v24H0z\" fill=\"none\"></path>\n",
      "</svg>\n",
      "</span>\n",
      "<span class=\"ipl-rating-star__rating\">Rate</span>\n",
      "</div>\n",
      "</label>\n",
      "<div class=\"ipl-rating-selector\" data-value=\"0\" id=\"ipl-rating-selector-tt4593118\">\n",
      "<div class=\"ipl-rating-selector__selector ipl-rating-selector__wrapper\">\n",
      "<div class=\"ipl-rating-selector__reset\">\n",
      "<a href=\"#void\"> <svg class=\"ipl-icon ipl-cancel-icon\" fill=\"#000000\" height=\"24\" viewbox=\"0 0 24 24\" width=\"24\" xmlns=\"http://www.w3.org/2000/svg\">\n",
      "<path d=\"M12 2C6.47 2 2 6.47 2 12s4.47 10 10 10 10-4.47 10-10S17.53 2 12 2zm5 13.59L15.59 17 12 13.41 8.41 17 7 15.59 10.59 12 7 8.41 8.41 7 12 10.59 15.59 7 17 8.41 13.41 12 17 15.59z\"></path>\n",
      "<path d=\"M0 0h24v24H0z\" fill=\"none\"></path>\n",
      "</svg>\n",
      "</a>\n",
      "</div>\n",
      "<span class=\"ipl-rating-selector__divider\"></span>\n",
      "<form action=\"/ratings/_ajax/title\" class=\"ipl-rating-selector__star-list\" method=\"post\">\n",
      "<a class=\"ipl-rating-selector__star-link\" data-value=\"1\" href=\"#void\">\n",
      "<div class=\"ipl-rating-star ipl-rating-interactive__star\">\n",
      "<span class=\"ipl-rating-star__star\">\n",
      "<svg class=\"ipl-icon ipl-star-icon\" fill=\"#000000\" height=\"24\" viewbox=\"0 0 24 24\" width=\"24\" xmlns=\"http://www.w3.org/2000/svg\">\n",
      "<path d=\"M0 0h24v24H0z\" fill=\"none\"></path>\n",
      "<path d=\"M12 17.27L18.18 21l-1.64-7.03L22 9.24l-7.19-.61L12 2 9.19 8.63 2 9.24l5.46 4.73L5.82 21z\"></path>\n",
      "<path d=\"M0 0h24v24H0z\" fill=\"none\"></path>\n",
      "</svg>\n",
      "</span>\n",
      "<span class=\"ipl-rating-star__rating\">1</span>\n",
      "</div>\n",
      "<div class=\"ipl-rating-star ipl-rating-interactive__star--empty\">\n",
      "<span class=\"ipl-rating-star__star\">\n",
      "<svg class=\"ipl-icon ipl-star-border-icon\" fill=\"#000000\" height=\"24\" viewbox=\"0 0 24 24\" width=\"24\" xmlns=\"http://www.w3.org/2000/svg\">\n",
      "<path d=\"M22 9.24l-7.19-.62L12 2 9.19 8.63 2 9.24l5.46 4.73L5.82 21 12 17.27 18.18 21l-1.63-7.03L22 9.24zM12 15.4l-3.76 2.27 1-4.28-3.32-2.88 4.38-.38L12 6.1l1.71 4.04 4.38.38-3.32 2.88 1 4.28L12 15.4z\"></path>\n",
      "<path d=\"M0 0h24v24H0z\" fill=\"none\"></path>\n",
      "</svg>\n",
      "</span>\n",
      "<span class=\"ipl-rating-star__rating\">Rate</span>\n",
      "</div>\n",
      "</a>\n",
      "<a class=\"ipl-rating-selector__star-link\" data-value=\"2\" href=\"#void\">\n",
      "<div class=\"ipl-rating-star ipl-rating-interactive__star\">\n",
      "<span class=\"ipl-rating-star__star\">\n",
      "<svg class=\"ipl-icon ipl-star-icon\" fill=\"#000000\" height=\"24\" viewbox=\"0 0 24 24\" width=\"24\" xmlns=\"http://www.w3.org/2000/svg\">\n",
      "<path d=\"M0 0h24v24H0z\" fill=\"none\"></path>\n",
      "<path d=\"M12 17.27L18.18 21l-1.64-7.03L22 9.24l-7.19-.61L12 2 9.19 8.63 2 9.24l5.46 4.73L5.82 21z\"></path>\n",
      "<path d=\"M0 0h24v24H0z\" fill=\"none\"></path>\n",
      "</svg>\n",
      "</span>\n",
      "<span class=\"ipl-rating-star__rating\">2</span>\n",
      "</div>\n",
      "<div class=\"ipl-rating-star ipl-rating-interactive__star--empty\">\n",
      "<span class=\"ipl-rating-star__star\">\n",
      "<svg class=\"ipl-icon ipl-star-border-icon\" fill=\"#000000\" height=\"24\" viewbox=\"0 0 24 24\" width=\"24\" xmlns=\"http://www.w3.org/2000/svg\">\n",
      "<path d=\"M22 9.24l-7.19-.62L12 2 9.19 8.63 2 9.24l5.46 4.73L5.82 21 12 17.27 18.18 21l-1.63-7.03L22 9.24zM12 15.4l-3.76 2.27 1-4.28-3.32-2.88 4.38-.38L12 6.1l1.71 4.04 4.38.38-3.32 2.88 1 4.28L12 15.4z\"></path>\n",
      "<path d=\"M0 0h24v24H0z\" fill=\"none\"></path>\n",
      "</svg>\n",
      "</span>\n",
      "<span class=\"ipl-rating-star__rating\">Rate</span>\n",
      "</div>\n",
      "</a>\n",
      "<a class=\"ipl-rating-selector__star-link\" data-value=\"3\" href=\"#void\">\n",
      "<div class=\"ipl-rating-star ipl-rating-interactive__star\">\n",
      "<span class=\"ipl-rating-star__star\">\n",
      "<svg class=\"ipl-icon ipl-star-icon\" fill=\"#000000\" height=\"24\" viewbox=\"0 0 24 24\" width=\"24\" xmlns=\"http://www.w3.org/2000/svg\">\n",
      "<path d=\"M0 0h24v24H0z\" fill=\"none\"></path>\n",
      "<path d=\"M12 17.27L18.18 21l-1.64-7.03L22 9.24l-7.19-.61L12 2 9.19 8.63 2 9.24l5.46 4.73L5.82 21z\"></path>\n",
      "<path d=\"M0 0h24v24H0z\" fill=\"none\"></path>\n",
      "</svg>\n",
      "</span>\n",
      "<span class=\"ipl-rating-star__rating\">3</span>\n",
      "</div>\n",
      "<div class=\"ipl-rating-star ipl-rating-interactive__star--empty\">\n",
      "<span class=\"ipl-rating-star__star\">\n",
      "<svg class=\"ipl-icon ipl-star-border-icon\" fill=\"#000000\" height=\"24\" viewbox=\"0 0 24 24\" width=\"24\" xmlns=\"http://www.w3.org/2000/svg\">\n",
      "<path d=\"M22 9.24l-7.19-.62L12 2 9.19 8.63 2 9.24l5.46 4.73L5.82 21 12 17.27 18.18 21l-1.63-7.03L22 9.24zM12 15.4l-3.76 2.27 1-4.28-3.32-2.88 4.38-.38L12 6.1l1.71 4.04 4.38.38-3.32 2.88 1 4.28L12 15.4z\"></path>\n",
      "<path d=\"M0 0h24v24H0z\" fill=\"none\"></path>\n",
      "</svg>\n",
      "</span>\n",
      "<span class=\"ipl-rating-star__rating\">Rate</span>\n",
      "</div>\n",
      "</a>\n",
      "<a class=\"ipl-rating-selector__star-link\" data-value=\"4\" href=\"#void\">\n",
      "<div class=\"ipl-rating-star ipl-rating-interactive__star\">\n",
      "<span class=\"ipl-rating-star__star\">\n",
      "<svg class=\"ipl-icon ipl-star-icon\" fill=\"#000000\" height=\"24\" viewbox=\"0 0 24 24\" width=\"24\" xmlns=\"http://www.w3.org/2000/svg\">\n",
      "<path d=\"M0 0h24v24H0z\" fill=\"none\"></path>\n",
      "<path d=\"M12 17.27L18.18 21l-1.64-7.03L22 9.24l-7.19-.61L12 2 9.19 8.63 2 9.24l5.46 4.73L5.82 21z\"></path>\n",
      "<path d=\"M0 0h24v24H0z\" fill=\"none\"></path>\n",
      "</svg>\n",
      "</span>\n",
      "<span class=\"ipl-rating-star__rating\">4</span>\n",
      "</div>\n",
      "<div class=\"ipl-rating-star ipl-rating-interactive__star--empty\">\n",
      "<span class=\"ipl-rating-star__star\">\n",
      "<svg class=\"ipl-icon ipl-star-border-icon\" fill=\"#000000\" height=\"24\" viewbox=\"0 0 24 24\" width=\"24\" xmlns=\"http://www.w3.org/2000/svg\">\n",
      "<path d=\"M22 9.24l-7.19-.62L12 2 9.19 8.63 2 9.24l5.46 4.73L5.82 21 12 17.27 18.18 21l-1.63-7.03L22 9.24zM12 15.4l-3.76 2.27 1-4.28-3.32-2.88 4.38-.38L12 6.1l1.71 4.04 4.38.38-3.32 2.88 1 4.28L12 15.4z\"></path>\n",
      "<path d=\"M0 0h24v24H0z\" fill=\"none\"></path>\n",
      "</svg>\n",
      "</span>\n",
      "<span class=\"ipl-rating-star__rating\">Rate</span>\n",
      "</div>\n",
      "</a>\n",
      "<a class=\"ipl-rating-selector__star-link\" data-value=\"5\" href=\"#void\">\n",
      "<div class=\"ipl-rating-star ipl-rating-interactive__star\">\n",
      "<span class=\"ipl-rating-star__star\">\n",
      "<svg class=\"ipl-icon ipl-star-icon\" fill=\"#000000\" height=\"24\" viewbox=\"0 0 24 24\" width=\"24\" xmlns=\"http://www.w3.org/2000/svg\">\n",
      "<path d=\"M0 0h24v24H0z\" fill=\"none\"></path>\n",
      "<path d=\"M12 17.27L18.18 21l-1.64-7.03L22 9.24l-7.19-.61L12 2 9.19 8.63 2 9.24l5.46 4.73L5.82 21z\"></path>\n",
      "<path d=\"M0 0h24v24H0z\" fill=\"none\"></path>\n",
      "</svg>\n",
      "</span>\n",
      "<span class=\"ipl-rating-star__rating\">5</span>\n",
      "</div>\n",
      "<div class=\"ipl-rating-star ipl-rating-interactive__star--empty\">\n",
      "<span class=\"ipl-rating-star__star\">\n",
      "<svg class=\"ipl-icon ipl-star-border-icon\" fill=\"#000000\" height=\"24\" viewbox=\"0 0 24 24\" width=\"24\" xmlns=\"http://www.w3.org/2000/svg\">\n",
      "<path d=\"M22 9.24l-7.19-.62L12 2 9.19 8.63 2 9.24l5.46 4.73L5.82 21 12 17.27 18.18 21l-1.63-7.03L22 9.24zM12 15.4l-3.76 2.27 1-4.28-3.32-2.88 4.38-.38L12 6.1l1.71 4.04 4.38.38-3.32 2.88 1 4.28L12 15.4z\"></path>\n",
      "<path d=\"M0 0h24v24H0z\" fill=\"none\"></path>\n",
      "</svg>\n",
      "</span>\n",
      "<span class=\"ipl-rating-star__rating\">Rate</span>\n",
      "</div>\n",
      "</a>\n",
      "<a class=\"ipl-rating-selector__star-link\" data-value=\"6\" href=\"#void\">\n",
      "<div class=\"ipl-rating-star ipl-rating-interactive__star\">\n",
      "<span class=\"ipl-rating-star__star\">\n",
      "<svg class=\"ipl-icon ipl-star-icon\" fill=\"#000000\" height=\"24\" viewbox=\"0 0 24 24\" width=\"24\" xmlns=\"http://www.w3.org/2000/svg\">\n",
      "<path d=\"M0 0h24v24H0z\" fill=\"none\"></path>\n",
      "<path d=\"M12 17.27L18.18 21l-1.64-7.03L22 9.24l-7.19-.61L12 2 9.19 8.63 2 9.24l5.46 4.73L5.82 21z\"></path>\n",
      "<path d=\"M0 0h24v24H0z\" fill=\"none\"></path>\n",
      "</svg>\n",
      "</span>\n",
      "<span class=\"ipl-rating-star__rating\">6</span>\n",
      "</div>\n",
      "<div class=\"ipl-rating-star ipl-rating-interactive__star--empty\">\n",
      "<span class=\"ipl-rating-star__star\">\n",
      "<svg class=\"ipl-icon ipl-star-border-icon\" fill=\"#000000\" height=\"24\" viewbox=\"0 0 24 24\" width=\"24\" xmlns=\"http://www.w3.org/2000/svg\">\n",
      "<path d=\"M22 9.24l-7.19-.62L12 2 9.19 8.63 2 9.24l5.46 4.73L5.82 21 12 17.27 18.18 21l-1.63-7.03L22 9.24zM12 15.4l-3.76 2.27 1-4.28-3.32-2.88 4.38-.38L12 6.1l1.71 4.04 4.38.38-3.32 2.88 1 4.28L12 15.4z\"></path>\n",
      "<path d=\"M0 0h24v24H0z\" fill=\"none\"></path>\n",
      "</svg>\n",
      "</span>\n",
      "<span class=\"ipl-rating-star__rating\">Rate</span>\n",
      "</div>\n",
      "</a>\n",
      "<a class=\"ipl-rating-selector__star-link\" data-value=\"7\" href=\"#void\">\n",
      "<div class=\"ipl-rating-star ipl-rating-interactive__star\">\n",
      "<span class=\"ipl-rating-star__star\">\n",
      "<svg class=\"ipl-icon ipl-star-icon\" fill=\"#000000\" height=\"24\" viewbox=\"0 0 24 24\" width=\"24\" xmlns=\"http://www.w3.org/2000/svg\">\n",
      "<path d=\"M0 0h24v24H0z\" fill=\"none\"></path>\n",
      "<path d=\"M12 17.27L18.18 21l-1.64-7.03L22 9.24l-7.19-.61L12 2 9.19 8.63 2 9.24l5.46 4.73L5.82 21z\"></path>\n",
      "<path d=\"M0 0h24v24H0z\" fill=\"none\"></path>\n",
      "</svg>\n",
      "</span>\n",
      "<span class=\"ipl-rating-star__rating\">7</span>\n",
      "</div>\n",
      "<div class=\"ipl-rating-star ipl-rating-interactive__star--empty\">\n",
      "<span class=\"ipl-rating-star__star\">\n",
      "<svg class=\"ipl-icon ipl-star-border-icon\" fill=\"#000000\" height=\"24\" viewbox=\"0 0 24 24\" width=\"24\" xmlns=\"http://www.w3.org/2000/svg\">\n",
      "<path d=\"M22 9.24l-7.19-.62L12 2 9.19 8.63 2 9.24l5.46 4.73L5.82 21 12 17.27 18.18 21l-1.63-7.03L22 9.24zM12 15.4l-3.76 2.27 1-4.28-3.32-2.88 4.38-.38L12 6.1l1.71 4.04 4.38.38-3.32 2.88 1 4.28L12 15.4z\"></path>\n",
      "<path d=\"M0 0h24v24H0z\" fill=\"none\"></path>\n",
      "</svg>\n",
      "</span>\n",
      "<span class=\"ipl-rating-star__rating\">Rate</span>\n",
      "</div>\n",
      "</a>\n",
      "<a class=\"ipl-rating-selector__star-link\" data-value=\"8\" href=\"#void\">\n",
      "<div class=\"ipl-rating-star ipl-rating-interactive__star\">\n",
      "<span class=\"ipl-rating-star__star\">\n",
      "<svg class=\"ipl-icon ipl-star-icon\" fill=\"#000000\" height=\"24\" viewbox=\"0 0 24 24\" width=\"24\" xmlns=\"http://www.w3.org/2000/svg\">\n",
      "<path d=\"M0 0h24v24H0z\" fill=\"none\"></path>\n",
      "<path d=\"M12 17.27L18.18 21l-1.64-7.03L22 9.24l-7.19-.61L12 2 9.19 8.63 2 9.24l5.46 4.73L5.82 21z\"></path>\n",
      "<path d=\"M0 0h24v24H0z\" fill=\"none\"></path>\n",
      "</svg>\n",
      "</span>\n",
      "<span class=\"ipl-rating-star__rating\">8</span>\n",
      "</div>\n",
      "<div class=\"ipl-rating-star ipl-rating-interactive__star--empty\">\n",
      "<span class=\"ipl-rating-star__star\">\n",
      "<svg class=\"ipl-icon ipl-star-border-icon\" fill=\"#000000\" height=\"24\" viewbox=\"0 0 24 24\" width=\"24\" xmlns=\"http://www.w3.org/2000/svg\">\n",
      "<path d=\"M22 9.24l-7.19-.62L12 2 9.19 8.63 2 9.24l5.46 4.73L5.82 21 12 17.27 18.18 21l-1.63-7.03L22 9.24zM12 15.4l-3.76 2.27 1-4.28-3.32-2.88 4.38-.38L12 6.1l1.71 4.04 4.38.38-3.32 2.88 1 4.28L12 15.4z\"></path>\n",
      "<path d=\"M0 0h24v24H0z\" fill=\"none\"></path>\n",
      "</svg>\n",
      "</span>\n",
      "<span class=\"ipl-rating-star__rating\">Rate</span>\n",
      "</div>\n",
      "</a>\n",
      "<a class=\"ipl-rating-selector__star-link\" data-value=\"9\" href=\"#void\">\n",
      "<div class=\"ipl-rating-star ipl-rating-interactive__star\">\n",
      "<span class=\"ipl-rating-star__star\">\n",
      "<svg class=\"ipl-icon ipl-star-icon\" fill=\"#000000\" height=\"24\" viewbox=\"0 0 24 24\" width=\"24\" xmlns=\"http://www.w3.org/2000/svg\">\n",
      "<path d=\"M0 0h24v24H0z\" fill=\"none\"></path>\n",
      "<path d=\"M12 17.27L18.18 21l-1.64-7.03L22 9.24l-7.19-.61L12 2 9.19 8.63 2 9.24l5.46 4.73L5.82 21z\"></path>\n",
      "<path d=\"M0 0h24v24H0z\" fill=\"none\"></path>\n",
      "</svg>\n",
      "</span>\n",
      "<span class=\"ipl-rating-star__rating\">9</span>\n",
      "</div>\n",
      "<div class=\"ipl-rating-star ipl-rating-interactive__star--empty\">\n",
      "<span class=\"ipl-rating-star__star\">\n",
      "<svg class=\"ipl-icon ipl-star-border-icon\" fill=\"#000000\" height=\"24\" viewbox=\"0 0 24 24\" width=\"24\" xmlns=\"http://www.w3.org/2000/svg\">\n",
      "<path d=\"M22 9.24l-7.19-.62L12 2 9.19 8.63 2 9.24l5.46 4.73L5.82 21 12 17.27 18.18 21l-1.63-7.03L22 9.24zM12 15.4l-3.76 2.27 1-4.28-3.32-2.88 4.38-.38L12 6.1l1.71 4.04 4.38.38-3.32 2.88 1 4.28L12 15.4z\"></path>\n",
      "<path d=\"M0 0h24v24H0z\" fill=\"none\"></path>\n",
      "</svg>\n",
      "</span>\n",
      "<span class=\"ipl-rating-star__rating\">Rate</span>\n",
      "</div>\n",
      "</a>\n",
      "<a class=\"ipl-rating-selector__star-link\" data-value=\"10\" href=\"#void\">\n",
      "<div class=\"ipl-rating-star ipl-rating-interactive__star\">\n",
      "<span class=\"ipl-rating-star__star\">\n",
      "<svg class=\"ipl-icon ipl-star-icon\" fill=\"#000000\" height=\"24\" viewbox=\"0 0 24 24\" width=\"24\" xmlns=\"http://www.w3.org/2000/svg\">\n",
      "<path d=\"M0 0h24v24H0z\" fill=\"none\"></path>\n",
      "<path d=\"M12 17.27L18.18 21l-1.64-7.03L22 9.24l-7.19-.61L12 2 9.19 8.63 2 9.24l5.46 4.73L5.82 21z\"></path>\n",
      "<path d=\"M0 0h24v24H0z\" fill=\"none\"></path>\n",
      "</svg>\n",
      "</span>\n",
      "<span class=\"ipl-rating-star__rating\">10</span>\n",
      "</div>\n",
      "<div class=\"ipl-rating-star ipl-rating-interactive__star--empty\">\n",
      "<span class=\"ipl-rating-star__star\">\n",
      "<svg class=\"ipl-icon ipl-star-border-icon\" fill=\"#000000\" height=\"24\" viewbox=\"0 0 24 24\" width=\"24\" xmlns=\"http://www.w3.org/2000/svg\">\n",
      "<path d=\"M22 9.24l-7.19-.62L12 2 9.19 8.63 2 9.24l5.46 4.73L5.82 21 12 17.27 18.18 21l-1.63-7.03L22 9.24zM12 15.4l-3.76 2.27 1-4.28-3.32-2.88 4.38-.38L12 6.1l1.71 4.04 4.38.38-3.32 2.88 1 4.28L12 15.4z\"></path>\n",
      "<path d=\"M0 0h24v24H0z\" fill=\"none\"></path>\n",
      "</svg>\n",
      "</span>\n",
      "<span class=\"ipl-rating-star__rating\">Rate</span>\n",
      "</div>\n",
      "</a>\n",
      "<fieldset class=\"ipl-rating-selector__fieldset\">\n",
      "<input name=\"tconst\" type=\"hidden\" value=\"tt4593118\"/>\n",
      "<input name=\"rating\" type=\"text\" value=\"0\"/>\n",
      "<input name=\"csrfToken\" type=\"hidden\" value=\"\"/>\n",
      "<input name=\"tracking_tag\" type=\"hidden\" value=\"ttep_ep1_rt\"/>\n",
      "<input name=\"pageType\" type=\"hidden\" value=\"title\"/>\n",
      "<input name=\"subpageType\" type=\"hidden\" value=\"episodes\"/>\n",
      "</fieldset>\n",
      "<noscript>\n",
      "<input class=\"ipl-rating-selector__rating-submit\" type=\"submit\" value=\"Vote\"/>\n",
      "</noscript>\n",
      "</form>\n",
      "<span class=\"ipl-rating-selector__rating-value\">0</span>\n",
      "</div>\n",
      "<div class=\"ipl-rating-selector__error ipl-rating-selector__wrapper\">\n",
      "<span>Error: please try again.</span>\n",
      "</div>\n",
      "</div>\n",
      "<div class=\"ipl-rating-interactive__loader\">\n",
      "<img alt=\"loading\" src=\"https://m.media-amazon.com/images/G/01/IMDb/spinning-progress.gif\"/>\n",
      "</div>\n",
      "</div>\n",
      "</div>\n",
      "<div class=\"item_description\" itemprop=\"description\">\n",
      "At the U.S. Dept. of Energy an unexplained event occurs. Then when a young Dungeons and Dragons playing boy named Will disappears after a night with his friends, his mother Joyce and the town of Hawkins are plunged into darkness.    </div>\n",
      "<div class=\"wtw-option-standalone\" data-baseref=\"ttep\" data-tconst=\"tt4593118\" data-watchtype=\"minibar\"></div>\n",
      "</div>\n"
     ]
    }
   ],
   "source": [
    "movie = movies[0]"
   ]
  },
  {
   "cell_type": "code",
   "execution_count": 31,
   "metadata": {
    "scrolled": true
   },
   "outputs": [
    {
     "name": "stdout",
     "output_type": "stream",
     "text": [
      "Chapter One: The Vanishing of Will Byers\n"
     ]
    }
   ],
   "source": [
    "name = movie.find(name = 'strong').a.string.strip()\n",
    "print(name)"
   ]
  },
  {
   "cell_type": "code",
   "execution_count": 32,
   "metadata": {},
   "outputs": [
    {
     "name": "stdout",
     "output_type": "stream",
     "text": [
      "8.6\n"
     ]
    }
   ],
   "source": [
    "rating = movie.find(name = 'span', attrs = {'class':'ipl-rating-star__rating'}).string.strip()\n",
    "print(rating)"
   ]
  },
  {
   "cell_type": "code",
   "execution_count": 36,
   "metadata": {},
   "outputs": [
    {
     "name": "stdout",
     "output_type": "stream",
     "text": [
      "20,216\n"
     ]
    }
   ],
   "source": [
    "num_user_rating = movie.find(name = 'span', attrs = {'class':'ipl-rating-star__total-votes'}).string[1:-1].strip()\n",
    "print(num_user_rating)"
   ]
  },
  {
   "cell_type": "code",
   "execution_count": 39,
   "metadata": {
    "scrolled": true
   },
   "outputs": [
    {
     "name": "stdout",
     "output_type": "stream",
     "text": [
      "15 Jul. 2016\n"
     ]
    }
   ],
   "source": [
    "airdate = movie.find(name = 'div', attrs = {'class':'airdate'}).string.strip()\n",
    "print(airdate)"
   ]
  },
  {
   "cell_type": "code",
   "execution_count": 42,
   "metadata": {},
   "outputs": [
    {
     "name": "stdout",
     "output_type": "stream",
     "text": [
      "At the U.S. Dept. of Energy an unexplained event occurs. Then when a young Dungeons and Dragons playing boy named Will disappears after a night with his friends, his mother Joyce and the town of Hawkins are plunged into darkness.\n"
     ]
    }
   ],
   "source": [
    "des = movie.find(name = 'div', attrs = {'class':'item_description'}).string.strip()\n",
    "print(des)"
   ]
  },
  {
   "cell_type": "markdown",
   "metadata": {},
   "source": [
    " "
   ]
  },
  {
   "cell_type": "code",
   "execution_count": 45,
   "metadata": {},
   "outputs": [
    {
     "data": {
      "text/html": [
       "<div>\n",
       "<style scoped>\n",
       "    .dataframe tbody tr th:only-of-type {\n",
       "        vertical-align: middle;\n",
       "    }\n",
       "\n",
       "    .dataframe tbody tr th {\n",
       "        vertical-align: top;\n",
       "    }\n",
       "\n",
       "    .dataframe thead th {\n",
       "        text-align: right;\n",
       "    }\n",
       "</style>\n",
       "<table border=\"1\" class=\"dataframe\">\n",
       "  <thead>\n",
       "    <tr style=\"text-align: right;\">\n",
       "      <th></th>\n",
       "      <th>Name</th>\n",
       "      <th>Rating</th>\n",
       "      <th>Rating user number</th>\n",
       "      <th>Airdate</th>\n",
       "      <th>Description</th>\n",
       "    </tr>\n",
       "  </thead>\n",
       "  <tbody>\n",
       "    <tr>\n",
       "      <th>0</th>\n",
       "      <td>Chapter One: The Vanishing of Will Byers</td>\n",
       "      <td>8.6</td>\n",
       "      <td>20,216</td>\n",
       "      <td>15 Jul. 2016</td>\n",
       "      <td>At the U.S. Dept. of Energy an unexplained eve...</td>\n",
       "    </tr>\n",
       "    <tr>\n",
       "      <th>1</th>\n",
       "      <td>Chapter Two: The Weirdo on Maple Street</td>\n",
       "      <td>8.5</td>\n",
       "      <td>18,061</td>\n",
       "      <td>15 Jul. 2016</td>\n",
       "      <td>Mike hides the mysterious girl in his house. J...</td>\n",
       "    </tr>\n",
       "    <tr>\n",
       "      <th>2</th>\n",
       "      <td>Chapter Three: Holly, Jolly</td>\n",
       "      <td>8.9</td>\n",
       "      <td>17,993</td>\n",
       "      <td>15 Jul. 2016</td>\n",
       "      <td>An increasingly concerned Nancy looks for Barb...</td>\n",
       "    </tr>\n",
       "    <tr>\n",
       "      <th>3</th>\n",
       "      <td>Chapter Four: The Body</td>\n",
       "      <td>9.0</td>\n",
       "      <td>17,666</td>\n",
       "      <td>15 Jul. 2016</td>\n",
       "      <td>Refusing to believe Will is dead, Joyce tries ...</td>\n",
       "    </tr>\n",
       "    <tr>\n",
       "      <th>4</th>\n",
       "      <td>Chapter Five: The Flea and the Acrobat</td>\n",
       "      <td>8.8</td>\n",
       "      <td>16,705</td>\n",
       "      <td>15 Jul. 2016</td>\n",
       "      <td>Hopper breaks into the lab to find the truth a...</td>\n",
       "    </tr>\n",
       "    <tr>\n",
       "      <th>5</th>\n",
       "      <td>Chapter Six: The Monster</td>\n",
       "      <td>8.9</td>\n",
       "      <td>16,574</td>\n",
       "      <td>15 Jul. 2016</td>\n",
       "      <td>Hopper and Joyce find the truth about the lab'...</td>\n",
       "    </tr>\n",
       "    <tr>\n",
       "      <th>6</th>\n",
       "      <td>Chapter Seven: The Bathtub</td>\n",
       "      <td>9.1</td>\n",
       "      <td>17,298</td>\n",
       "      <td>15 Jul. 2016</td>\n",
       "      <td>The government comes searching for Eleven. Ele...</td>\n",
       "    </tr>\n",
       "    <tr>\n",
       "      <th>7</th>\n",
       "      <td>Chapter Eight: The Upside Down</td>\n",
       "      <td>9.4</td>\n",
       "      <td>20,411</td>\n",
       "      <td>15 Jul. 2016</td>\n",
       "      <td>Joyce and Hopper are taken in for questioning....</td>\n",
       "    </tr>\n",
       "  </tbody>\n",
       "</table>\n",
       "</div>"
      ],
      "text/plain": [
       "                                       Name Rating Rating user number  \\\n",
       "0  Chapter One: The Vanishing of Will Byers    8.6             20,216   \n",
       "1   Chapter Two: The Weirdo on Maple Street    8.5             18,061   \n",
       "2               Chapter Three: Holly, Jolly    8.9             17,993   \n",
       "3                    Chapter Four: The Body    9.0             17,666   \n",
       "4    Chapter Five: The Flea and the Acrobat    8.8             16,705   \n",
       "5                  Chapter Six: The Monster    8.9             16,574   \n",
       "6                Chapter Seven: The Bathtub    9.1             17,298   \n",
       "7            Chapter Eight: The Upside Down    9.4             20,411   \n",
       "\n",
       "        Airdate                                        Description  \n",
       "0  15 Jul. 2016  At the U.S. Dept. of Energy an unexplained eve...  \n",
       "1  15 Jul. 2016  Mike hides the mysterious girl in his house. J...  \n",
       "2  15 Jul. 2016  An increasingly concerned Nancy looks for Barb...  \n",
       "3  15 Jul. 2016  Refusing to believe Will is dead, Joyce tries ...  \n",
       "4  15 Jul. 2016  Hopper breaks into the lab to find the truth a...  \n",
       "5  15 Jul. 2016  Hopper and Joyce find the truth about the lab'...  \n",
       "6  15 Jul. 2016  The government comes searching for Eleven. Ele...  \n",
       "7  15 Jul. 2016  Joyce and Hopper are taken in for questioning....  "
      ]
     },
     "execution_count": 45,
     "metadata": {},
     "output_type": "execute_result"
    }
   ],
   "source": [
    "mdata_list = []\n",
    "for movie in movies:\n",
    "    name = movie.find(name = 'strong').a.string.strip()\n",
    "    rating = movie.find(name = 'span', attrs = {'class':'ipl-rating-star__rating'}).string.strip()\n",
    "    num_user_rating = movie.find(name = 'span', attrs = {'class':'ipl-rating-star__total-votes'}).string[1:-1].strip()\n",
    "    airdate = movie.find(name = 'div', attrs = {'class':'airdate'}).string.strip()\n",
    "    des = movie.find(name = 'div', attrs = {'class':'item_description'}).string.strip()\n",
    "    \n",
    "    mdata = {'Name':name, 'Rating':rating, 'Rating user number':num_user_rating, 'Airdate':airdate, 'Description':des}\n",
    "    \n",
    "    mdata_list.append(mdata)\n",
    "\n",
    "mdata_df = pd.DataFrame(mdata_list)\n",
    "mdata_df"
   ]
  },
  {
   "cell_type": "code",
   "execution_count": 47,
   "metadata": {},
   "outputs": [],
   "source": [
    "mdata_df.to_excel('./assignment3.xlsx', index = False)"
   ]
  }
 ],
 "metadata": {
  "kernelspec": {
   "display_name": "Python 3",
   "language": "python",
   "name": "python3"
  },
  "language_info": {
   "codemirror_mode": {
    "name": "ipython",
    "version": 3
   },
   "file_extension": ".py",
   "mimetype": "text/x-python",
   "name": "python",
   "nbconvert_exporter": "python",
   "pygments_lexer": "ipython3",
   "version": "3.8.8"
  }
 },
 "nbformat": 4,
 "nbformat_minor": 2
}
